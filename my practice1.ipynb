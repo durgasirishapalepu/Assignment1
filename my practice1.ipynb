{
 "cells": [
  {
   "cell_type": "code",
   "execution_count": 34,
   "id": "1443d5e5",
   "metadata": {},
   "outputs": [
    {
     "name": "stdout",
     "output_type": "stream",
     "text": [
      "hello\n"
     ]
    }
   ],
   "source": [
    "print(\"hello\")"
   ]
  },
  {
   "cell_type": "code",
   "execution_count": 27,
   "id": "d223c7bf",
   "metadata": {},
   "outputs": [
    {
     "name": "stdout",
     "output_type": "stream",
     "text": [
      "1 7 "
     ]
    }
   ],
   "source": [
    "n = 7\n",
    "for i in range(1,n+1):\n",
    "    if n%i ==0:\n",
    "        print(i,end =\" \")\n"
   ]
  },
  {
   "cell_type": "code",
   "execution_count": 38,
   "id": "fcbb30a0",
   "metadata": {},
   "outputs": [
    {
     "name": "stdout",
     "output_type": "stream",
     "text": [
      "192\n"
     ]
    }
   ],
   "source": [
    "n = \"444\"\n",
    "sum = 0\n",
    "for i in (n):\n",
    "    num = int(i)**len(n)\n",
    "    sum +=num\n",
    "print(sum)"
   ]
  },
  {
   "cell_type": "code",
   "execution_count": 3,
   "id": "765f629f",
   "metadata": {},
   "outputs": [
    {
     "data": {
      "text/plain": [
       "['192.24.52.265']"
      ]
     },
     "execution_count": 3,
     "metadata": {},
     "output_type": "execute_result"
    }
   ],
   "source": [
    "a = \"192.24.52.265\"\n",
    "a.split(\",\")\n"
   ]
  },
  {
   "cell_type": "code",
   "execution_count": null,
   "id": "6f08faae",
   "metadata": {},
   "outputs": [],
   "source": [
    "1. ljust()\n",
    "2. rjust()\n",
    "3. center()\n"
   ]
  },
  {
   "cell_type": "code",
   "execution_count": 4,
   "id": "1e7847bf",
   "metadata": {},
   "outputs": [
    {
     "data": {
      "text/plain": [
       "6"
      ]
     },
     "execution_count": 4,
     "metadata": {},
     "output_type": "execute_result"
    }
   ],
   "source": [
    "str_1 = \"ganesh\"\n",
    "len(str_1)"
   ]
  },
  {
   "cell_type": "code",
   "execution_count": 5,
   "id": "6b21c9e3",
   "metadata": {},
   "outputs": [
    {
     "data": {
      "text/plain": [
       "'ganesh@@@@'"
      ]
     },
     "execution_count": 5,
     "metadata": {},
     "output_type": "execute_result"
    }
   ],
   "source": [
    "str_1.ljust(10, \"@\")"
   ]
  },
  {
   "cell_type": "code",
   "execution_count": 6,
   "id": "97b218f4",
   "metadata": {},
   "outputs": [
    {
     "data": {
      "text/plain": [
       "'@@ganesh@@'"
      ]
     },
     "execution_count": 6,
     "metadata": {},
     "output_type": "execute_result"
    }
   ],
   "source": [
    "str_1.center(10, \"@\")"
   ]
  },
  {
   "cell_type": "code",
   "execution_count": 9,
   "id": "2a34fe79",
   "metadata": {},
   "outputs": [
    {
     "data": {
      "text/plain": [
       "'0000ganesh'"
      ]
     },
     "execution_count": 9,
     "metadata": {},
     "output_type": "execute_result"
    }
   ],
   "source": [
    "str_1.zfill(10)"
   ]
  },
  {
   "cell_type": "code",
   "execution_count": 11,
   "id": "267d5d88",
   "metadata": {},
   "outputs": [
    {
     "name": "stdout",
     "output_type": "stream",
     "text": [
      "ganesh 30 90\n",
      "rajesh 30 90\n",
      "hareesh 30 90\n"
     ]
    }
   ],
   "source": [
    "li = [\"ganesh\",\"rajesh\",\"hareesh\"]\n",
    "age = 30\n",
    "marks =90\n",
    "for i in li:\n",
    "    print(i,age,marks)\n"
   ]
  },
  {
   "cell_type": "code",
   "execution_count": 12,
   "id": "89c9887b",
   "metadata": {},
   "outputs": [
    {
     "data": {
      "text/plain": [
       "'0b10000'"
      ]
     },
     "execution_count": 12,
     "metadata": {},
     "output_type": "execute_result"
    }
   ],
   "source": [
    "bin(16)"
   ]
  },
  {
   "cell_type": "code",
   "execution_count": 14,
   "id": "0c457130",
   "metadata": {},
   "outputs": [
    {
     "data": {
      "text/plain": [
       "'0000000000010000'"
      ]
     },
     "execution_count": 14,
     "metadata": {},
     "output_type": "execute_result"
    }
   ],
   "source": [
    "bin(16)[2:].zfill(16)"
   ]
  },
  {
   "cell_type": "code",
   "execution_count": 16,
   "id": "be841f88",
   "metadata": {},
   "outputs": [
    {
     "data": {
      "text/plain": [
       "'#@#@#@S@i@r@i@s@h@a'"
      ]
     },
     "execution_count": 16,
     "metadata": {},
     "output_type": "execute_result"
    }
   ],
   "source": [
    "str_2 = \"###Sirisha\"\n",
    "str_2.replace(\"#\",\"\")\n",
    "\"@\".join(str_2)"
   ]
  },
  {
   "cell_type": "code",
   "execution_count": 19,
   "id": "e712b7f2",
   "metadata": {},
   "outputs": [
    {
     "name": "stdout",
     "output_type": "stream",
     "text": [
      "gnimmargorp nohtyP\n"
     ]
    }
   ],
   "source": [
    "a = \"Python programming\"\n",
    "Slice = a[::-1]\n",
    "print(Slice)\n",
    "   #its reverse the string "
   ]
  },
  {
   "cell_type": "code",
   "execution_count": 20,
   "id": "d1fe81c2",
   "metadata": {},
   "outputs": [
    {
     "data": {
      "text/plain": [
       "'a'"
      ]
     },
     "execution_count": 20,
     "metadata": {},
     "output_type": "execute_result"
    }
   ],
   "source": [
    "st1 =\"sirisha\"\n",
    "min(st1)"
   ]
  },
  {
   "cell_type": "code",
   "execution_count": 25,
   "id": "8d53d4c7",
   "metadata": {},
   "outputs": [
    {
     "data": {
      "text/plain": [
       "['sirisha\\\\is\\\\good']"
      ]
     },
     "execution_count": 25,
     "metadata": {},
     "output_type": "execute_result"
    }
   ],
   "source": [
    "w = \"sirisha\\is\\good\"\n",
    "w.splitlines()"
   ]
  },
  {
   "cell_type": "code",
   "execution_count": 26,
   "id": "7e52a39f",
   "metadata": {},
   "outputs": [
    {
     "data": {
      "text/plain": [
       "array([ 0,  1,  2,  3,  4,  5,  6,  7,  8,  9, 10, 11, 12, 13, 14])"
      ]
     },
     "execution_count": 26,
     "metadata": {},
     "output_type": "execute_result"
    }
   ],
   "source": [
    "import numpy as np\n",
    "np.arange(15)"
   ]
  },
  {
   "cell_type": "markdown",
   "id": "5126f213",
   "metadata": {},
   "source": [
    "#"
   ]
  },
  {
   "cell_type": "code",
   "execution_count": 33,
   "id": "48e142cc",
   "metadata": {},
   "outputs": [
    {
     "data": {
      "text/plain": [
       "3"
      ]
     },
     "execution_count": 33,
     "metadata": {},
     "output_type": "execute_result"
    }
   ],
   "source": [
    "import math\n",
    "math.ceil(2.4)"
   ]
  },
  {
   "cell_type": "code",
   "execution_count": 34,
   "id": "f659b6cf",
   "metadata": {},
   "outputs": [
    {
     "data": {
      "text/plain": [
       "2"
      ]
     },
     "execution_count": 34,
     "metadata": {},
     "output_type": "execute_result"
    }
   ],
   "source": [
    "import math\n",
    "math.floor(2.7)"
   ]
  },
  {
   "cell_type": "code",
   "execution_count": 35,
   "id": "491f60eb",
   "metadata": {},
   "outputs": [
    {
     "data": {
      "text/plain": [
       "120"
      ]
     },
     "execution_count": 35,
     "metadata": {},
     "output_type": "execute_result"
    }
   ],
   "source": [
    "import math\n",
    "math.factorial(5)\n"
   ]
  },
  {
   "cell_type": "code",
   "execution_count": 3,
   "id": "99a26ecd",
   "metadata": {},
   "outputs": [],
   "source": [
    "a,b,*c = (10,20,30,40)"
   ]
  },
  {
   "cell_type": "code",
   "execution_count": 2,
   "id": "0aa2b656",
   "metadata": {},
   "outputs": [],
   "source": [
    "t =(1,2,3,)\n",
    "c =list(t)"
   ]
  }
 ],
 "metadata": {
  "kernelspec": {
   "display_name": "Python 3 (ipykernel)",
   "language": "python",
   "name": "python3"
  },
  "language_info": {
   "codemirror_mode": {
    "name": "ipython",
    "version": 3
   },
   "file_extension": ".py",
   "mimetype": "text/x-python",
   "name": "python",
   "nbconvert_exporter": "python",
   "pygments_lexer": "ipython3",
   "version": "3.11.5"
  }
 },
 "nbformat": 4,
 "nbformat_minor": 5
}

{
 "cells": [
  {
   "cell_type": "code",
   "execution_count": 2,
   "id": "cb235c94",
   "metadata": {},
   "outputs": [
    {
     "data": {
      "text/plain": [
       "True"
      ]
     },
     "execution_count": 2,
     "metadata": {},
     "output_type": "execute_result"
    }
   ],
   "source": [
    "w = \"allthebest\" #string methods\n",
    "w.isalpha()"
   ]
  },
  {
   "cell_type": "code",
   "execution_count": 5,
   "id": "6bce39d8",
   "metadata": {},
   "outputs": [
    {
     "data": {
      "text/plain": [
       "True"
      ]
     },
     "execution_count": 5,
     "metadata": {},
     "output_type": "execute_result"
    }
   ],
   "source": [
    "n = \"2236789\" \n",
    "n.isdecimal()"
   ]
  },
  {
   "cell_type": "code",
   "execution_count": 6,
   "id": "5bd9acc0",
   "metadata": {},
   "outputs": [
    {
     "data": {
      "text/plain": [
       "True"
      ]
     },
     "execution_count": 6,
     "metadata": {},
     "output_type": "execute_result"
    }
   ],
   "source": [
    "w =\"hibro\"\n",
    "w.islower()"
   ]
  },
  {
   "cell_type": "code",
   "execution_count": 7,
   "id": "cdac772f",
   "metadata": {},
   "outputs": [
    {
     "data": {
      "text/plain": [
       "True"
      ]
     },
     "execution_count": 7,
     "metadata": {},
     "output_type": "execute_result"
    }
   ],
   "source": [
    "n = \"SIRISHA\"\n",
    "n.isupper()"
   ]
  },
  {
   "cell_type": "code",
   "execution_count": 13,
   "id": "426f50e1",
   "metadata": {},
   "outputs": [
    {
     "data": {
      "text/plain": [
       "True"
      ]
     },
     "execution_count": 13,
     "metadata": {},
     "output_type": "execute_result"
    }
   ],
   "source": [
    "w = \"12345siris\"\n",
    "w.isalnum()"
   ]
  },
  {
   "cell_type": "code",
   "execution_count": 14,
   "id": "6ea15829",
   "metadata": {},
   "outputs": [
    {
     "data": {
      "text/plain": [
       "'Ramakrishna'"
      ]
     },
     "execution_count": 14,
     "metadata": {},
     "output_type": "execute_result"
    }
   ],
   "source": [
    "w =\"ramakrishna\"\n",
    "w.capitalize()"
   ]
  },
  {
   "cell_type": "code",
   "execution_count": 16,
   "id": "70a365a0",
   "metadata": {},
   "outputs": [
    {
     "data": {
      "text/plain": [
       "'Hare Rama'"
      ]
     },
     "execution_count": 16,
     "metadata": {},
     "output_type": "execute_result"
    }
   ],
   "source": [
    "w =\"Hare rama\"\n",
    "w.title()"
   ]
  },
  {
   "cell_type": "code",
   "execution_count": 19,
   "id": "2931f257",
   "metadata": {},
   "outputs": [
    {
     "data": {
      "text/plain": [
       "'shimakh'"
      ]
     },
     "execution_count": 19,
     "metadata": {},
     "output_type": "execute_result"
    }
   ],
   "source": [
    "w = \"SHIMAKH\" #swapcase\n",
    "w.swapcase()"
   ]
  },
  {
   "cell_type": "code",
   "execution_count": 23,
   "id": "8fbfa27e",
   "metadata": {},
   "outputs": [
    {
     "data": {
      "text/plain": [
       "2"
      ]
     },
     "execution_count": 23,
     "metadata": {},
     "output_type": "execute_result"
    }
   ],
   "source": [
    "w = \"Shimakh, Technologies\"\n",
    "w.count(\"o\")"
   ]
  },
  {
   "cell_type": "code",
   "execution_count": 28,
   "id": "710f16dd",
   "metadata": {},
   "outputs": [
    {
     "data": {
      "text/plain": [
       "0"
      ]
     },
     "execution_count": 28,
     "metadata": {},
     "output_type": "execute_result"
    }
   ],
   "source": [
    "w = \"shimakh, Technologies\"\n",
    "w.index(\"s\")"
   ]
  },
  {
   "cell_type": "code",
   "execution_count": 29,
   "id": "5e36dcf7",
   "metadata": {},
   "outputs": [
    {
     "data": {
      "text/plain": [
       "20"
      ]
     },
     "execution_count": 29,
     "metadata": {},
     "output_type": "execute_result"
    }
   ],
   "source": [
    "w = \"shimakh, Technologies\" #from right index(last index)\n",
    "w.rindex(\"s\")"
   ]
  },
  {
   "cell_type": "code",
   "execution_count": 30,
   "id": "945b627c",
   "metadata": {},
   "outputs": [
    {
     "data": {
      "text/plain": [
       "2"
      ]
     },
     "execution_count": 30,
     "metadata": {},
     "output_type": "execute_result"
    }
   ],
   "source": [
    "w = \"I am a trainee\" #it doesnt through error\n",
    "w.find(\"a\")"
   ]
  },
  {
   "cell_type": "code",
   "execution_count": 32,
   "id": "c48382fa",
   "metadata": {},
   "outputs": [
    {
     "data": {
      "text/plain": [
       "13"
      ]
     },
     "execution_count": 32,
     "metadata": {},
     "output_type": "execute_result"
    }
   ],
   "source": [
    "w = \"I am a trainee\" # will find the last index occurance\n",
    "w.rfind(\"e\")"
   ]
  },
  {
   "cell_type": "code",
   "execution_count": 45,
   "id": "3d4948fd",
   "metadata": {},
   "outputs": [
    {
     "data": {
      "text/plain": [
       "'This is the beggining'"
      ]
     },
     "execution_count": 45,
     "metadata": {},
     "output_type": "execute_result"
    }
   ],
   "source": [
    "a = \"That is the beggining\"\n",
    "a.replace(\"That\",\"This\")"
   ]
  },
  {
   "cell_type": "code",
   "execution_count": 50,
   "id": "c3ef1435",
   "metadata": {},
   "outputs": [
    {
     "data": {
      "text/plain": [
       "True"
      ]
     },
     "execution_count": 50,
     "metadata": {},
     "output_type": "execute_result"
    }
   ],
   "source": [
    "mail = \"http://palepu.sirisha@gmai.com\"\n",
    "mail.startswith(\"http://\")"
   ]
  },
  {
   "cell_type": "code",
   "execution_count": 48,
   "id": "71cef89b",
   "metadata": {},
   "outputs": [
    {
     "data": {
      "text/plain": [
       "True"
      ]
     },
     "execution_count": 48,
     "metadata": {},
     "output_type": "execute_result"
    }
   ],
   "source": [
    "mail = \"rama@yahoo.com\"\n",
    "mail.endswith(\".com\")"
   ]
  },
  {
   "cell_type": "code",
   "execution_count": 56,
   "id": "5c5b684e",
   "metadata": {},
   "outputs": [
    {
     "data": {
      "text/plain": [
       "True"
      ]
     },
     "execution_count": 56,
     "metadata": {},
     "output_type": "execute_result"
    }
   ],
   "source": [
    "w = \"Hello world\" #membership check\n",
    "\"H\" in w"
   ]
  },
  {
   "cell_type": "code",
   "execution_count": 58,
   "id": "d51e2c0e",
   "metadata": {},
   "outputs": [
    {
     "data": {
      "text/plain": [
       "True"
      ]
     },
     "execution_count": 58,
     "metadata": {},
     "output_type": "execute_result"
    }
   ],
   "source": [
    "c = \"123456789\"\n",
    "\"10\" not in c"
   ]
  },
  {
   "cell_type": "code",
   "execution_count": 66,
   "id": "2b5e0c88",
   "metadata": {},
   "outputs": [
    {
     "data": {
      "text/plain": [
       "'9'"
      ]
     },
     "execution_count": 66,
     "metadata": {},
     "output_type": "execute_result"
    }
   ],
   "source": [
    "l1 = \"123456789\"\n",
    "max(l1)"
   ]
  },
  {
   "cell_type": "code",
   "execution_count": 68,
   "id": "a88ac3aa",
   "metadata": {},
   "outputs": [
    {
     "data": {
      "text/plain": [
       "'A'"
      ]
     },
     "execution_count": 68,
     "metadata": {},
     "output_type": "execute_result"
    }
   ],
   "source": [
    "l2 = \"Abcdefghi\"\n",
    "min(l2)"
   ]
  },
  {
   "cell_type": "code",
   "execution_count": 33,
   "id": "9b6d3b13",
   "metadata": {},
   "outputs": [
    {
     "data": {
      "text/plain": [
       "4"
      ]
     },
     "execution_count": 33,
     "metadata": {},
     "output_type": "execute_result"
    }
   ],
   "source": [
    "a = 5 #bitwise operators todays session\n",
    "b = 4\n",
    "a&b"
   ]
  },
  {
   "cell_type": "code",
   "execution_count": 34,
   "id": "2a00d778",
   "metadata": {},
   "outputs": [
    {
     "data": {
      "text/plain": [
       "2"
      ]
     },
     "execution_count": 34,
     "metadata": {},
     "output_type": "execute_result"
    }
   ],
   "source": [
    "a = 6 \n",
    "b = 2 \n",
    "a&b"
   ]
  },
  {
   "cell_type": "code",
   "execution_count": 35,
   "id": "277accc3",
   "metadata": {},
   "outputs": [
    {
     "data": {
      "text/plain": [
       "6"
      ]
     },
     "execution_count": 35,
     "metadata": {},
     "output_type": "execute_result"
    }
   ],
   "source": [
    "x = 6 \n",
    "y = 2\n",
    "x|y"
   ]
  },
  {
   "cell_type": "code",
   "execution_count": 36,
   "id": "8061f787",
   "metadata": {},
   "outputs": [
    {
     "data": {
      "text/plain": [
       "-6"
      ]
     },
     "execution_count": 36,
     "metadata": {},
     "output_type": "execute_result"
    }
   ],
   "source": [
    "a = 5 #complemetary\n",
    "~a"
   ]
  },
  {
   "cell_type": "code",
   "execution_count": 37,
   "id": "39b3a2fa",
   "metadata": {},
   "outputs": [
    {
     "data": {
      "text/plain": [
       "1"
      ]
     },
     "execution_count": 37,
     "metadata": {},
     "output_type": "execute_result"
    }
   ],
   "source": [
    "#^ xor operator\n",
    "a=5\n",
    "b =4\n",
    "a^b"
   ]
  },
  {
   "cell_type": "code",
   "execution_count": 44,
   "id": "6bca6d8b",
   "metadata": {},
   "outputs": [
    {
     "data": {
      "text/plain": [
       "1"
      ]
     },
     "execution_count": 44,
     "metadata": {},
     "output_type": "execute_result"
    }
   ],
   "source": [
    "a=5\n",
    "a>>2\n"
   ]
  },
  {
   "cell_type": "code",
   "execution_count": 55,
   "id": "8d52981b",
   "metadata": {},
   "outputs": [
    {
     "name": "stdout",
     "output_type": "stream",
     "text": [
      "True\n"
     ]
    }
   ],
   "source": [
    "a = 5\n",
    "b = 5\n",
    "a is b #its checking id\n",
    "c = a==b\n",
    "print(c) #its checking the values"
   ]
  },
  {
   "cell_type": "code",
   "execution_count": 59,
   "id": "d26f06f6",
   "metadata": {},
   "outputs": [
    {
     "data": {
      "text/plain": [
       "-2.0"
      ]
     },
     "execution_count": 59,
     "metadata": {},
     "output_type": "execute_result"
    }
   ],
   "source": [
    "(2+3)/2%6//6-2"
   ]
  },
  {
   "cell_type": "code",
   "execution_count": 63,
   "id": "8f9c6fb8",
   "metadata": {},
   "outputs": [
    {
     "data": {
      "text/plain": [
       "-0.25"
      ]
     },
     "execution_count": 63,
     "metadata": {},
     "output_type": "execute_result"
    }
   ],
   "source": [
    "2+3/4-(2*2**3)%4-3"
   ]
  },
  {
   "cell_type": "code",
   "execution_count": 64,
   "id": "bc081f86",
   "metadata": {},
   "outputs": [
    {
     "data": {
      "text/plain": [
       "3"
      ]
     },
     "execution_count": 64,
     "metadata": {},
     "output_type": "execute_result"
    }
   ],
   "source": [
    "2**3>>3+2^3"
   ]
  },
  {
   "cell_type": "code",
   "execution_count": null,
   "id": "91d65bb6",
   "metadata": {},
   "outputs": [],
   "source": [
    "#Python functions\n",
    "1.builin function"
   ]
  },
  {
   "cell_type": "code",
   "execution_count": 69,
   "id": "6a3c4421",
   "metadata": {},
   "outputs": [
    {
     "data": {
      "text/plain": [
       "array('i', [1, 2, 3, 4, 5])"
      ]
     },
     "execution_count": 69,
     "metadata": {},
     "output_type": "execute_result"
    }
   ],
   "source": [
    "import array\n",
    "array.array(\"i\",(1,2,3,4,5))"
   ]
  },
  {
   "cell_type": "code",
   "execution_count": 75,
   "id": "45a074e5",
   "metadata": {},
   "outputs": [
    {
     "name": "stdout",
     "output_type": "stream",
     "text": [
      "Hi Welcom\n",
      "sirisha\n"
     ]
    }
   ],
   "source": [
    "def greet():\n",
    "    print(\"Hi Welcom\")\n",
    "    \n",
    "a = \"sirisha\"\n",
    "greet()\n",
    "print(a)\n",
    "    "
   ]
  },
  {
   "cell_type": "code",
   "execution_count": 79,
   "id": "aed1624c",
   "metadata": {},
   "outputs": [
    {
     "name": "stdout",
     "output_type": "stream",
     "text": [
      "Hi Good Moring Rama\n"
     ]
    }
   ],
   "source": [
    "def greet():\n",
    "    msg = \"Hi Good Moring \" + n\n",
    "    print(msg)\n",
    "    \n",
    "n = \"Rama\"\n",
    "greet()"
   ]
  },
  {
   "cell_type": "code",
   "execution_count": 87,
   "id": "d68b3d40",
   "metadata": {},
   "outputs": [
    {
     "data": {
      "text/plain": [
       "2.0"
      ]
     },
     "execution_count": 87,
     "metadata": {},
     "output_type": "execute_result"
    }
   ],
   "source": [
    "def div(a,b):\n",
    "    c = a/b\n",
    "    return c\n",
    "\n",
    "div(100,50)\n"
   ]
  },
  {
   "cell_type": "code",
   "execution_count": 89,
   "id": "257894c6",
   "metadata": {},
   "outputs": [
    {
     "data": {
      "text/plain": [
       "100.0"
      ]
     },
     "execution_count": 89,
     "metadata": {},
     "output_type": "execute_result"
    }
   ],
   "source": [
    "div(500,5)"
   ]
  },
  {
   "cell_type": "code",
   "execution_count": 93,
   "id": "92a06d79",
   "metadata": {},
   "outputs": [
    {
     "name": "stdout",
     "output_type": "stream",
     "text": [
      "my name is Rama,and age is 30\n"
     ]
    }
   ],
   "source": [
    "def fun1(name,age=24):\n",
    "    print(f'my name is {name},and age is {age}')\n",
    "    \n",
    "fun1(\"Rama\",30)"
   ]
  },
  {
   "cell_type": "code",
   "execution_count": 97,
   "id": "61a94c9d",
   "metadata": {},
   "outputs": [
    {
     "name": "stdout",
     "output_type": "stream",
     "text": [
      "20 (30,)\n",
      "1 (2, 3, 4, 5)\n"
     ]
    }
   ],
   "source": [
    "def fun2 (a,*b):\n",
    "    print(a,b)\n",
    "    \n",
    "fun2(20,30)\n",
    "fun2(1,2,3,4,5)\n"
   ]
  },
  {
   "cell_type": "code",
   "execution_count": 98,
   "id": "f67c1e9a",
   "metadata": {},
   "outputs": [
    {
     "name": "stdout",
     "output_type": "stream",
     "text": [
      "{'name': 'Jai', 'age': 3}\n"
     ]
    }
   ],
   "source": [
    "def fun3(**kwargs):\n",
    "    print(kwargs)\n",
    "\n",
    "fun3(name =\"Jai\",age = 3)"
   ]
  },
  {
   "cell_type": "code",
   "execution_count": 100,
   "id": "f0d29ada",
   "metadata": {},
   "outputs": [
    {
     "name": "stdout",
     "output_type": "stream",
     "text": [
      "{'name': 'Manu', 'age': 24, 'marks': 80}\n"
     ]
    }
   ],
   "source": [
    "def fun4(**kwargs):\n",
    "    print(kwargs)\n",
    "    \n",
    "fun4(name =\"Manu\",age =24, marks=80)"
   ]
  },
  {
   "cell_type": "code",
   "execution_count": 119,
   "id": "8964510a",
   "metadata": {},
   "outputs": [
    {
     "name": "stdout",
     "output_type": "stream",
     "text": [
      "[1, 2, 3, 4, 'h']\n",
      "['RAJ, 3,4,5,6']\n"
     ]
    }
   ],
   "source": [
    "def split_string(a):\n",
    "    b = []\n",
    "    for i in a.split(\"/\"):\n",
    "        if i.isdigit():\n",
    "            b.append(int(i))\n",
    "        else:\n",
    "            b.append(i)\n",
    "    print(b)\n",
    "\n",
    "a = \"1/2/3/4/h\"\n",
    "split_string(a)\n",
    "\n",
    "c= \"RAJ, 3,4,5,6\"\n",
    "split_string(c)\n"
   ]
  },
  {
   "cell_type": "code",
   "execution_count": null,
   "id": "5131aa99",
   "metadata": {},
   "outputs": [],
   "source": [
    "def fun(a1):\n",
    "    print(\"inside before appending\",a1,id(a1))\n",
    "    a1.append(50)"
   ]
  },
  {
   "cell_type": "code",
   "execution_count": 122,
   "id": "2c86b630",
   "metadata": {},
   "outputs": [
    {
     "data": {
      "text/plain": [
       "-1"
      ]
     },
     "execution_count": 122,
     "metadata": {},
     "output_type": "execute_result"
    }
   ],
   "source": [
    "a = lambda a,b:a-b\n",
    "a(15,16)"
   ]
  },
  {
   "cell_type": "code",
   "execution_count": 123,
   "id": "3161b80b",
   "metadata": {},
   "outputs": [
    {
     "name": "stdout",
     "output_type": "stream",
     "text": [
      "[2, 4, 6, 8]\n"
     ]
    }
   ],
   "source": [
    "#list comprehnsion\n",
    "#a = [statement, for var in list,condition]\n",
    "list1 =[1,2,3,4,5,6,7,8,9]\n",
    "v = [x for x in list1 if x%2==0]\n",
    "print(v)"
   ]
  },
  {
   "cell_type": "code",
   "execution_count": 124,
   "id": "1688df62",
   "metadata": {},
   "outputs": [
    {
     "name": "stdout",
     "output_type": "stream",
     "text": [
      "{4, 5, 6, 7, 8}\n"
     ]
    }
   ],
   "source": [
    "set1 = {1,2,3,4,5}\n",
    "y ={a+3 for a in set1 if 3 in set1}\n",
    "print(y)"
   ]
  },
  {
   "cell_type": "code",
   "execution_count": 141,
   "id": "34127fa9",
   "metadata": {},
   "outputs": [
    {
     "data": {
      "text/plain": [
       "{0: 'apple', 1: 'ball', 2: 'cat', 3: 'dog', 4: 'egg'}"
      ]
     },
     "execution_count": 141,
     "metadata": {},
     "output_type": "execute_result"
    }
   ],
   "source": [
    "list2 =[\"apple\",\"ball\",\"cat\",\"dog\",\"egg\"]\n",
    "    \n",
    "dict(enumerate(list2))\n",
    "\n",
    "    \n"
   ]
  },
  {
   "cell_type": "code",
   "execution_count": null,
   "id": "6663953b",
   "metadata": {},
   "outputs": [],
   "source": []
  }
 ],
 "metadata": {
  "kernelspec": {
   "display_name": "Python 3 (ipykernel)",
   "language": "python",
   "name": "python3"
  },
  "language_info": {
   "codemirror_mode": {
    "name": "ipython",
    "version": 3
   },
   "file_extension": ".py",
   "mimetype": "text/x-python",
   "name": "python",
   "nbconvert_exporter": "python",
   "pygments_lexer": "ipython3",
   "version": "3.11.5"
  }
 },
 "nbformat": 4,
 "nbformat_minor": 5
}

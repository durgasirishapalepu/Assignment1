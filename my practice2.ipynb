{
 "cells": [
  {
   "cell_type": "code",
   "execution_count": null,
   "id": "44e1a697",
   "metadata": {},
   "outputs": [],
   "source": [
    "# l1 = [1,2,3,[\"siri\",\"jai\",[\"a\",\"b\",\"c\"]],4,5,6] #three dimension\n",
    "l1[3][1][0]"
   ]
  },
  {
   "cell_type": "code",
   "execution_count": 7,
   "id": "68c5a188",
   "metadata": {},
   "outputs": [
    {
     "name": "stdout",
     "output_type": "stream",
     "text": [
      "[2, 4, 6]\n"
     ]
    }
   ],
   "source": [
    "list1 = [1,2,3,4,5,6]\n",
    "lis2 = []\n",
    "for i in list1:\n",
    "    if i%2==0:\n",
    "        lis2.append(i)\n",
    "        \n",
    "print(lis2)"
   ]
  },
  {
   "cell_type": "code",
   "execution_count": 11,
   "id": "7ea616bb",
   "metadata": {},
   "outputs": [
    {
     "name": "stdout",
     "output_type": "stream",
     "text": [
      "(1+2j)\n"
     ]
    }
   ],
   "source": [
    "a = complex(1,2)\n",
    "print(a)"
   ]
  },
  {
   "cell_type": "code",
   "execution_count": 12,
   "id": "7e1ce70b",
   "metadata": {},
   "outputs": [
    {
     "data": {
      "text/plain": [
       "25"
      ]
     },
     "execution_count": 12,
     "metadata": {},
     "output_type": "execute_result"
    }
   ],
   "source": [
    "pow(5,2) #it will give the power"
   ]
  },
  {
   "cell_type": "code",
   "execution_count": 13,
   "id": "4a62a15e",
   "metadata": {},
   "outputs": [
    {
     "data": {
      "text/plain": [
       "True"
      ]
     },
     "execution_count": 13,
     "metadata": {},
     "output_type": "execute_result"
    }
   ],
   "source": [
    "bool(\"2\")"
   ]
  },
  {
   "cell_type": "code",
   "execution_count": null,
   "id": "ed880e86",
   "metadata": {},
   "outputs": [],
   "source": []
  }
 ],
 "metadata": {
  "kernelspec": {
   "display_name": "Python 3 (ipykernel)",
   "language": "python",
   "name": "python3"
  },
  "language_info": {
   "codemirror_mode": {
    "name": "ipython",
    "version": 3
   },
   "file_extension": ".py",
   "mimetype": "text/x-python",
   "name": "python",
   "nbconvert_exporter": "python",
   "pygments_lexer": "ipython3",
   "version": "3.11.5"
  }
 },
 "nbformat": 4,
 "nbformat_minor": 5
}

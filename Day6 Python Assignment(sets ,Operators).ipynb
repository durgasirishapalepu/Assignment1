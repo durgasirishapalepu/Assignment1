{
 "cells": [
  {
   "cell_type": "code",
   "execution_count": 5,
   "id": "d2cc8760",
   "metadata": {},
   "outputs": [
    {
     "name": "stdout",
     "output_type": "stream",
     "text": [
      "['12', '13', '14']\n"
     ]
    }
   ],
   "source": [
    "list_a =[\"2020-10-12\",\"2021-11-13\",\"2022-12-14\"] #for every string last 2char access\n",
    "list_b = []\n",
    "for i in list_a:\n",
    "    list_b.append(i[-2:])\n",
    "print(list_b)"
   ]
  },
  {
   "cell_type": "code",
   "execution_count": 10,
   "id": "32046023",
   "metadata": {},
   "outputs": [
    {
     "name": "stdout",
     "output_type": "stream",
     "text": [
      "12 13 14 "
     ]
    }
   ],
   "source": [
    "list_a =[\"2020-10-12\",\"2021-11-13\",\"2022-12-14\"] #for every string last 2char access with split method\n",
    "list_b = []\n",
    "for i in list_a:\n",
    "    print((i.split(\"-\")[-1]),end =\" \")"
   ]
  },
  {
   "cell_type": "code",
   "execution_count": 13,
   "id": "31c573b3",
   "metadata": {},
   "outputs": [
    {
     "data": {
      "text/plain": [
       "[(1, 's'), (2, 'i'), (3, 'r'), (4, 'e'), (5, 'e')]"
      ]
     },
     "execution_count": 13,
     "metadata": {},
     "output_type": "execute_result"
    }
   ],
   "source": [
    "l1 = [1,2,3,4,5]  #Zip the the 2 lists\n",
    "l2 = [\"s\",\"i\",\"r\",\"e\",\"e\"]\n",
    "list(zip(l1,l2))"
   ]
  },
  {
   "cell_type": "code",
   "execution_count": 9,
   "id": "90a8fc50",
   "metadata": {},
   "outputs": [
    {
     "name": "stdout",
     "output_type": "stream",
     "text": [
      "20.0\n",
      "You entered right value\n",
      "successfully finished\n"
     ]
    }
   ],
   "source": [
    "try:                 #try and except else\n",
    "    a = 200\n",
    "    b = 10\n",
    "    c = a /b\n",
    "    print(c)\n",
    "except:\n",
    "    print(\"Enter Proper Value Greter than zero\")\n",
    "else:\n",
    "    print(\"You entered right value\")\n",
    "finally:\n",
    "    print(\"successfully finished\")\n"
   ]
  },
  {
   "cell_type": "code",
   "execution_count": 8,
   "id": "b608434c",
   "metadata": {},
   "outputs": [
    {
     "name": "stdout",
     "output_type": "stream",
     "text": [
      "Enter Less than Zero value plz check once\n"
     ]
    }
   ],
   "source": [
    "try:\n",
    "    a = 255\n",
    "    b = 0\n",
    "    c = a /b\n",
    "    print(c)\n",
    "except:\n",
    "    print(\"Enter Less than Zero value plz check once\")\n",
    "    "
   ]
  },
  {
   "cell_type": "code",
   "execution_count": 11,
   "id": "d0cfa5cd",
   "metadata": {},
   "outputs": [
    {
     "name": "stdout",
     "output_type": "stream",
     "text": [
      "<class 'set'>\n"
     ]
    }
   ],
   "source": [
    "empty_set ={()} #Creat an empty set\n",
    "print(type(empty_set))"
   ]
  },
  {
   "cell_type": "code",
   "execution_count": 12,
   "id": "ab949182",
   "metadata": {},
   "outputs": [
    {
     "name": "stdout",
     "output_type": "stream",
     "text": [
      "{1, 2, 3, 4, 5, 6}\n"
     ]
    }
   ],
   "source": [
    "set2 = {1,2,3,3,4,5,5,6,6} # set will not allowed duplicates\n",
    "print(set2)"
   ]
  },
  {
   "cell_type": "code",
   "execution_count": 14,
   "id": "2323ab67",
   "metadata": {},
   "outputs": [
    {
     "ename": "TypeError",
     "evalue": "'set' object is not subscriptable",
     "output_type": "error",
     "traceback": [
      "\u001b[1;31m---------------------------------------------------------------------------\u001b[0m",
      "\u001b[1;31mTypeError\u001b[0m                                 Traceback (most recent call last)",
      "Cell \u001b[1;32mIn[14], line 1\u001b[0m\n\u001b[1;32m----> 1\u001b[0m set3 \u001b[38;5;241m=\u001b[39m set2[\u001b[38;5;241m3\u001b[39m:]\n\u001b[0;32m      2\u001b[0m \u001b[38;5;28mprint\u001b[39m(set3)\n",
      "\u001b[1;31mTypeError\u001b[0m: 'set' object is not subscriptable"
     ]
    }
   ],
   "source": [
    "set3 = set2[3:] #set object not Subscriptable\n",
    "print(set3)"
   ]
  },
  {
   "cell_type": "code",
   "execution_count": 21,
   "id": "a5e3cde4",
   "metadata": {},
   "outputs": [
    {
     "name": "stdout",
     "output_type": "stream",
     "text": [
      "1 2 3 4 5 6 "
     ]
    }
   ],
   "source": [
    "for i in set2: # we can itarate with for loop\n",
    "    print(i,end =\" \")"
   ]
  },
  {
   "cell_type": "code",
   "execution_count": 22,
   "id": "719c22e6",
   "metadata": {},
   "outputs": [
    {
     "name": "stdout",
     "output_type": "stream",
     "text": [
      "6\n"
     ]
    }
   ],
   "source": [
    "length = len(set2) # we can find length\n",
    "print(length)"
   ]
  },
  {
   "cell_type": "code",
   "execution_count": 31,
   "id": "b21addef",
   "metadata": {},
   "outputs": [
    {
     "name": "stdout",
     "output_type": "stream",
     "text": [
      "{1, 2, 3, 4, 5, 6, 7, 'b', 'a'}\n"
     ]
    }
   ],
   "source": [
    "print(set2)\n",
    "set3 = set2.add(\"8\") we can add values if it not present in the set"
   ]
  },
  {
   "cell_type": "code",
   "execution_count": 32,
   "id": "bbc66339",
   "metadata": {},
   "outputs": [
    {
     "name": "stdout",
     "output_type": "stream",
     "text": [
      "{1, 2, 3, 4, 5, 6, 7, '8', 'b', 'a'}\n"
     ]
    }
   ],
   "source": [
    "print(set2)"
   ]
  },
  {
   "cell_type": "code",
   "execution_count": 33,
   "id": "71ac6e5e",
   "metadata": {},
   "outputs": [
    {
     "name": "stdout",
     "output_type": "stream",
     "text": [
      "{2, 3, 4, 5, 6, 7, '8', 'b', 'a'}\n"
     ]
    }
   ],
   "source": [
    "set2.pop() # pop will delete left side value\n",
    "print(set2)"
   ]
  },
  {
   "cell_type": "code",
   "execution_count": 34,
   "id": "091046a1",
   "metadata": {},
   "outputs": [
    {
     "name": "stdout",
     "output_type": "stream",
     "text": [
      "{2, 3, 4, 6, 7, '8', 'b', 'a'}\n"
     ]
    }
   ],
   "source": [
    "set2.remove(5) #remove will delete specific value\n",
    "print(set2)"
   ]
  },
  {
   "cell_type": "code",
   "execution_count": 35,
   "id": "5dc30dc0",
   "metadata": {},
   "outputs": [
    {
     "name": "stdout",
     "output_type": "stream",
     "text": [
      "set()\n"
     ]
    }
   ],
   "source": [
    "set2.clear() # clear will delete all the data\n",
    "print(set2)"
   ]
  },
  {
   "cell_type": "code",
   "execution_count": 36,
   "id": "bbbec902",
   "metadata": {},
   "outputs": [
    {
     "name": "stdout",
     "output_type": "stream",
     "text": [
      "{1, 2, 3, 4, 5, 6, 7, 8, 9}\n"
     ]
    }
   ],
   "source": [
    "set1 = {1,2,3,4,5,6,6} #union operation at set will get all the elements with common\n",
    "set2 = {3,4,5,6,7,7,8,9}\n",
    "union = set1.union(set2)\n",
    "print(union)"
   ]
  },
  {
   "cell_type": "code",
   "execution_count": 3,
   "id": "64879012",
   "metadata": {},
   "outputs": [
    {
     "name": "stdout",
     "output_type": "stream",
     "text": [
      "{3, 4, 5, 6}\n"
     ]
    }
   ],
   "source": [
    "set1 = {1,2,3,4,5,6,6} #it will print common elements\n",
    "set2 = {3,4,5,6,7,7,8,9}\n",
    "intersection =set1.intersection(set2)\n",
    "print(intersection)"
   ]
  },
  {
   "cell_type": "code",
   "execution_count": 4,
   "id": "c8c76f31",
   "metadata": {},
   "outputs": [
    {
     "name": "stdout",
     "output_type": "stream",
     "text": [
      "{1, 2}\n"
     ]
    }
   ],
   "source": [
    "set1 = {1,2,3,4,5,6,6} #it will give difference values\n",
    "set2 = {3,4,5,6,7,7,8,9}\n",
    "difference = set1.difference(set2)\n",
    "print(difference)"
   ]
  },
  {
   "cell_type": "code",
   "execution_count": 6,
   "id": "1f55a1b9",
   "metadata": {},
   "outputs": [
    {
     "name": "stdout",
     "output_type": "stream",
     "text": [
      "{1, 2, 7, 8, 9}\n"
     ]
    }
   ],
   "source": [
    "set1 = {1,2,3,4,5,6,6} #it will give symetric difference values\n",
    "set2 = {3,4,5,6,7,7,8,9}\n",
    "sym_difference = set1.symmetric_difference(set2)\n",
    "print(sym_difference)"
   ]
  },
  {
   "cell_type": "code",
   "execution_count": 12,
   "id": "559a57b5",
   "metadata": {},
   "outputs": [
    {
     "name": "stdout",
     "output_type": "stream",
     "text": [
      "True\n"
     ]
    }
   ],
   "source": [
    "set_1 = {11,12,13,14,15,16}\n",
    "set_2 = {11,12,13}\n",
    "is_subset = set_2.issubset(set_1)\n",
    "print(is_subset)"
   ]
  },
  {
   "cell_type": "code",
   "execution_count": 13,
   "id": "7eb6d52b",
   "metadata": {},
   "outputs": [
    {
     "name": "stdout",
     "output_type": "stream",
     "text": [
      "True\n"
     ]
    }
   ],
   "source": [
    "set_1 = {11,12,13,14,15,16}\n",
    "set_2 = {11,12,13}\n",
    "is_superset = set_1.issuperset(set_2)\n",
    "print(is_superset)"
   ]
  },
  {
   "cell_type": "code",
   "execution_count": 16,
   "id": "49a1078b",
   "metadata": {},
   "outputs": [
    {
     "name": "stdout",
     "output_type": "stream",
     "text": [
      "False\n"
     ]
    }
   ],
   "source": [
    "set_1 = {11,12,13,14,15,16}\n",
    "set_2 = {11,12,13}\n",
    "is_disjoint = set_1.isdisjoint(set_2)\n",
    "print(is_disjoint)"
   ]
  },
  {
   "cell_type": "code",
   "execution_count": 17,
   "id": "97938173",
   "metadata": {},
   "outputs": [
    {
     "name": "stdout",
     "output_type": "stream",
     "text": [
      "True\n"
     ]
    }
   ],
   "source": [
    "set_1 = {11,12,13,14,15,16}\n",
    "set_2 = {1,2,3,4,5}\n",
    "is_disjoint = set_1.isdisjoint(set_2)\n",
    "print(is_disjoint)"
   ]
  },
  {
   "cell_type": "code",
   "execution_count": 19,
   "id": "6db0a7f5",
   "metadata": {},
   "outputs": [
    {
     "name": "stdout",
     "output_type": "stream",
     "text": [
      "50\n",
      "10\n",
      "600\n",
      "1.5\n",
      "10\n",
      "1\n"
     ]
    }
   ],
   "source": [
    "#arthmatic operators\n",
    "a,b = 30,20\n",
    "print(a+b)\n",
    "print(a-b)\n",
    "print(a*b)\n",
    "print(a/b)\n",
    "print(a%b)\n",
    "print(a//b)\n"
   ]
  },
  {
   "cell_type": "code",
   "execution_count": 20,
   "id": "890500dd",
   "metadata": {},
   "outputs": [
    {
     "name": "stdout",
     "output_type": "stream",
     "text": [
      "True\n",
      "False\n",
      "False\n",
      "True\n",
      "False\n",
      "True\n"
     ]
    }
   ],
   "source": [
    "#Relational Operators\n",
    "a,b = 60,50\n",
    "print(a>b)\n",
    "print(a<b)\n",
    "print(a==b)\n",
    "print(a>=b)\n",
    "print(a<=b)\n",
    "print(a!=b)"
   ]
  },
  {
   "cell_type": "code",
   "execution_count": 21,
   "id": "10556879",
   "metadata": {},
   "outputs": [
    {
     "name": "stdout",
     "output_type": "stream",
     "text": [
      "True\n",
      "True\n",
      "False\n"
     ]
    }
   ],
   "source": [
    "#Logical Operators\n",
    "c,d,e = 90,80 ,100\n",
    "and_ope = c>b and d<e\n",
    "print(and_ope)\n",
    "or_ope = c>e or e>b\n",
    "print(or_ope)\n",
    "not_ope = not(b<c)\n",
    "print(not_ope)\n"
   ]
  },
  {
   "cell_type": "code",
   "execution_count": null,
   "id": "6936fe92",
   "metadata": {},
   "outputs": [],
   "source": []
  }
 ],
 "metadata": {
  "kernelspec": {
   "display_name": "Python 3 (ipykernel)",
   "language": "python",
   "name": "python3"
  },
  "language_info": {
   "codemirror_mode": {
    "name": "ipython",
    "version": 3
   },
   "file_extension": ".py",
   "mimetype": "text/x-python",
   "name": "python",
   "nbconvert_exporter": "python",
   "pygments_lexer": "ipython3",
   "version": "3.11.5"
  }
 },
 "nbformat": 4,
 "nbformat_minor": 5
}

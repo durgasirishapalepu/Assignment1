{
 "cells": [
  {
   "cell_type": "code",
   "execution_count": 2,
   "id": "55ec84b7",
   "metadata": {},
   "outputs": [
    {
     "name": "stdout",
     "output_type": "stream",
     "text": [
      "{2: 4, 4: 8}\n"
     ]
    }
   ],
   "source": [
    "#dictionary comprehension \n",
    "#{key:value for (key,value) in iterable if condition}\n",
    "list1 = [1,2,3,4,5]\n",
    "dic = {}\n",
    "for i in list1:\n",
    "    if i%2 ==0:\n",
    "        dic[i]=i*2\n",
    "print(dic)"
   ]
  },
  {
   "cell_type": "code",
   "execution_count": 8,
   "id": "7395595d",
   "metadata": {},
   "outputs": [
    {
     "name": "stdout",
     "output_type": "stream",
     "text": [
      "{2: 4, 4: 8}\n"
     ]
    }
   ],
   "source": [
    "list1 = [1,2,3,4,5]\n",
    "d = {i:i*2 for i in list1 if i%2 == 0}\n",
    "print(d)"
   ]
  },
  {
   "cell_type": "code",
   "execution_count": 13,
   "id": "20c887f4",
   "metadata": {},
   "outputs": [
    {
     "name": "stdout",
     "output_type": "stream",
     "text": [
      "{'a': 1, 'b': 2, 'c': 3}\n"
     ]
    }
   ],
   "source": [
    "a = [\"a\",\"b\",\"c\"]\n",
    "b = [1,2,3]\n",
    "dict1 = {}\n",
    "for k,v in zip(a,b):\n",
    "    dict1[k] = v\n",
    "print(dict1)"
   ]
  },
  {
   "cell_type": "code",
   "execution_count": 18,
   "id": "8d113ce2",
   "metadata": {},
   "outputs": [
    {
     "name": "stdout",
     "output_type": "stream",
     "text": [
      "{'a': 1, 'b': 2, 'c': 3}\n"
     ]
    }
   ],
   "source": [
    "a = [\"a\",\"b\",\"c\"]\n",
    "b = [1,2,3]\n",
    "d1 = {k:v for (k,v) in zip(a,b)}\n",
    "print(d1)"
   ]
  },
  {
   "cell_type": "code",
   "execution_count": 19,
   "id": "26e38d80",
   "metadata": {},
   "outputs": [
    {
     "name": "stdout",
     "output_type": "stream",
     "text": [
      "<generator object <genexpr> at 0x000001F979A6E670>\n"
     ]
    }
   ],
   "source": [
    "#generator comprehension\n",
    "list1 = [1,2,3,4,5]\n",
    "g = (i*2 for i in list1)\n",
    "print(g)"
   ]
  },
  {
   "cell_type": "code",
   "execution_count": 21,
   "id": "d6333f6c",
   "metadata": {},
   "outputs": [
    {
     "name": "stdout",
     "output_type": "stream",
     "text": [
      "Ram\n",
      "Raj\n",
      "Sai\n"
     ]
    }
   ],
   "source": [
    "mylist = iter([\"Ram\", \"Raj\", \"Sai\"])\n",
    "x = next(mylist)\n",
    "print(x)\n",
    "x = next(mylist)\n",
    "print(x)\n",
    "x = next(mylist)\n",
    "print(x)"
   ]
  },
  {
   "cell_type": "code",
   "execution_count": 22,
   "id": "e2b62995",
   "metadata": {},
   "outputs": [
    {
     "name": "stdout",
     "output_type": "stream",
     "text": [
      "1\n",
      "2\n",
      "3\n"
     ]
    }
   ],
   "source": [
    "def fun():\n",
    "    yield 1\n",
    "    yield 2 \n",
    "    yield 3\n",
    "    \n",
    "for i in fun():\n",
    "    print(i)"
   ]
  },
  {
   "cell_type": "code",
   "execution_count": 26,
   "id": "eec28020",
   "metadata": {},
   "outputs": [
    {
     "name": "stdout",
     "output_type": "stream",
     "text": [
      "1\n",
      "2\n"
     ]
    }
   ],
   "source": [
    "def fun():\n",
    "    yield 1\n",
    "    yield 2 \n",
    "    yield 3\n",
    "    \n",
    "a = fun()\n",
    "print(next(a))\n",
    "print(next(a))"
   ]
  },
  {
   "cell_type": "code",
   "execution_count": 45,
   "id": "3a7a62e3",
   "metadata": {},
   "outputs": [
    {
     "name": "stdout",
     "output_type": "stream",
     "text": [
      "12\n"
     ]
    }
   ],
   "source": [
    "def fun2(b):\n",
    "    b =10\n",
    "    b =b+2\n",
    "    print(b)\n",
    "    \n",
    "c=20\n",
    "fun2(c)\n",
    "\n"
   ]
  },
  {
   "cell_type": "code",
   "execution_count": 53,
   "id": "e840d60f",
   "metadata": {},
   "outputs": [
    {
     "name": "stdout",
     "output_type": "stream",
     "text": [
      "22\n"
     ]
    }
   ],
   "source": [
    "def sum(a,b):\n",
    "    return a+b\n",
    "if __name__==\"__main__\":\n",
    "    print(sum(12,10))"
   ]
  },
  {
   "cell_type": "code",
   "execution_count": 66,
   "id": "e14969ed",
   "metadata": {},
   "outputs": [
    {
     "name": "stdout",
     "output_type": "stream",
     "text": [
      "256\n"
     ]
    }
   ],
   "source": [
    "y = lambda l,b: l**b\n",
    "print(y(2,8))\n",
    "\n"
   ]
  },
  {
   "cell_type": "code",
   "execution_count": 13,
   "id": "bff2adb8",
   "metadata": {},
   "outputs": [
    {
     "name": "stdout",
     "output_type": "stream",
     "text": [
      "[4, 16, 36, 64, 100]\n"
     ]
    }
   ],
   "source": [
    "def square(n):\n",
    "    return n**2\n",
    "list1 = [2,4,6,8,10]\n",
    "square_num = map(square,list1)\n",
    "print(list(square_num))\n"
   ]
  },
  {
   "cell_type": "code",
   "execution_count": 72,
   "id": "b6f7057f",
   "metadata": {},
   "outputs": [
    {
     "name": "stdout",
     "output_type": "stream",
     "text": [
      "[1, 3, 5, 6]\n"
     ]
    }
   ],
   "source": [
    "def positive_number(num):\n",
    "    return n>0\n",
    "  \n",
    "list_a = [1, -2, 3, -4,5,6]\n",
    "positive_nums = filter(positive_number, list_a)\n",
    "print(list(positive_nums))"
   ]
  },
  {
   "cell_type": "code",
   "execution_count": 75,
   "id": "0e4acc31",
   "metadata": {},
   "outputs": [
    {
     "name": "stdout",
     "output_type": "stream",
     "text": [
      "(-1, -2, -3, -6)\n"
     ]
    }
   ],
   "source": [
    "def negative_num(n):\n",
    "    return n < 0\n",
    "    \n",
    "tuple_a = (-1,-2,-3,4,5,-6)\n",
    "negativ_no = filter(negative_num,tuple_a)\n",
    "print(tuple(negativ_no))"
   ]
  },
  {
   "cell_type": "code",
   "execution_count": 79,
   "id": "ee625b71",
   "metadata": {},
   "outputs": [
    {
     "name": "stdout",
     "output_type": "stream",
     "text": [
      "[3, 6]\n"
     ]
    }
   ],
   "source": [
    "def divisable_3(n):\n",
    "    return n%3 == 0\n",
    "\n",
    "list1 = [1,2,3,4,5,6]\n",
    "div_3no = filter(divisable_3,list1)\n",
    "print(list(div_3no))"
   ]
  },
  {
   "cell_type": "code",
   "execution_count": 4,
   "id": "cc31a963",
   "metadata": {},
   "outputs": [
    {
     "name": "stdout",
     "output_type": "stream",
     "text": [
      "10\n"
     ]
    }
   ],
   "source": [
    "from functools import reduce\n",
    "\n",
    "def sum_of_num(a, b):\n",
    "    return a+b\n",
    "\n",
    "list_a = [1, 2, 3, 4]\n",
    "sum_of_list = reduce(sum_of_num, list_a)\n",
    "print(sum_of_list)"
   ]
  },
  {
   "cell_type": "code",
   "execution_count": 11,
   "id": "6d7ad0fa",
   "metadata": {},
   "outputs": [
    {
     "name": "stdout",
     "output_type": "stream",
     "text": [
      "720\n"
     ]
    }
   ],
   "source": [
    "from functools import reduce\n",
    "\n",
    "def product_of_num(a, b):\n",
    "    return a*b\n",
    "list_2 = [1, 2, 3, 4, 5, 6]\n",
    "produ_no = reduce(product_of_num,list_2)\n",
    "print(produ_no)"
   ]
  },
  {
   "cell_type": "code",
   "execution_count": null,
   "id": "709e0f46",
   "metadata": {},
   "outputs": [],
   "source": []
  },
  {
   "cell_type": "code",
   "execution_count": null,
   "id": "1b6e9854",
   "metadata": {},
   "outputs": [],
   "source": []
  }
 ],
 "metadata": {
  "kernelspec": {
   "display_name": "Python 3 (ipykernel)",
   "language": "python",
   "name": "python3"
  },
  "language_info": {
   "codemirror_mode": {
    "name": "ipython",
    "version": 3
   },
   "file_extension": ".py",
   "mimetype": "text/x-python",
   "name": "python",
   "nbconvert_exporter": "python",
   "pygments_lexer": "ipython3",
   "version": "3.11.5"
  }
 },
 "nbformat": 4,
 "nbformat_minor": 5
}

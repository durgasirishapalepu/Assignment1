{
 "cells": [
  {
   "cell_type": "code",
   "execution_count": 1,
   "id": "02038a4c",
   "metadata": {},
   "outputs": [
    {
     "name": "stdout",
     "output_type": "stream",
     "text": [
      "Hello World\n"
     ]
    }
   ],
   "source": [
    "#basic practice\n",
    "a = \"Hello World\"\n",
    "print(a)\n"
   ]
  },
  {
   "cell_type": "code",
   "execution_count": 9,
   "id": "ae1f7eaa",
   "metadata": {},
   "outputs": [
    {
     "name": "stdout",
     "output_type": "stream",
     "text": [
      "Hello\n",
      "World\n",
      "Hlo\n"
     ]
    }
   ],
   "source": [
    "# string slicing\n",
    "a = \"Hello World\"\n",
    "b = a[:5]\n",
    "print(b)\n",
    "c = a[-5:]#access last char \n",
    "print(c)\n",
    "\n",
    "d = a[0:5:2] #extented slicing\n",
    "print(d)"
   ]
  },
  {
   "cell_type": "code",
   "execution_count": 10,
   "id": "ee1a784e",
   "metadata": {},
   "outputs": [
    {
     "name": "stdout",
     "output_type": "stream",
     "text": [
      "3\n"
     ]
    }
   ],
   "source": [
    "a = [0,1,2,3,4,5] #indexing\n",
    "b =a[3]\n",
    "print(b)"
   ]
  },
  {
   "cell_type": "code",
   "execution_count": 12,
   "id": "2c84f944",
   "metadata": {},
   "outputs": [
    {
     "name": "stdout",
     "output_type": "stream",
     "text": [
      "I am sirisha from AP\n"
     ]
    }
   ],
   "source": [
    "a = \"sirisha\" # string concatination\n",
    "print(\"I am \" + a + \" from AP\")"
   ]
  },
  {
   "cell_type": "code",
   "execution_count": 14,
   "id": "478bc6d5",
   "metadata": {},
   "outputs": [
    {
     "name": "stdout",
     "output_type": "stream",
     "text": [
      "22\n"
     ]
    }
   ],
   "source": [
    "w = \"Its Python Programming\" #length of the string\n",
    "length = len(w)\n",
    "print(length)"
   ]
  },
  {
   "cell_type": "code",
   "execution_count": 15,
   "id": "f99ce646",
   "metadata": {},
   "outputs": [
    {
     "name": "stdout",
     "output_type": "stream",
     "text": [
      "<class 'str'>\n",
      "<class 'int'>\n",
      "<class 'float'>\n"
     ]
    }
   ],
   "source": [
    "print(type(\"Hai\"))#data types\n",
    "print(type(12))\n",
    "print(type(12.5))"
   ]
  },
  {
   "cell_type": "code",
   "execution_count": 16,
   "id": "6f4ae556",
   "metadata": {},
   "outputs": [
    {
     "name": "stdout",
     "output_type": "stream",
     "text": [
      "<class 'int'>\n",
      "12.0\n"
     ]
    }
   ],
   "source": [
    "a = \"125\" #type conversion\n",
    "a = int(a)\n",
    "print(type(a))\n",
    "b = float(12)\n",
    "print(b)"
   ]
  },
  {
   "cell_type": "code",
   "execution_count": 19,
   "id": "aacb68db",
   "metadata": {},
   "outputs": [
    {
     "name": "stdout",
     "output_type": "stream",
     "text": [
      "True\n",
      "True\n",
      "False\n"
     ]
    }
   ],
   "source": [
    "a = 5  # relational Operatiors\n",
    "b = 6\n",
    "c = b >= a\n",
    "d = a <= b\n",
    "e = a == b\n",
    "print(c)\n",
    "print(d)\n",
    "print(e)"
   ]
  },
  {
   "cell_type": "code",
   "execution_count": 22,
   "id": "d8b31db0",
   "metadata": {},
   "outputs": [
    {
     "name": "stdout",
     "output_type": "stream",
     "text": [
      "True\n",
      "True\n",
      "False\n"
     ]
    }
   ],
   "source": [
    "a,b,c = 3,6,9 #logical operators\n",
    "con1 = a<b and b<c\n",
    "con2 = b>a or c<a\n",
    "con3 = not(True)\n",
    "print(con1)\n",
    "print(con2)\n",
    "print(con3)"
   ]
  },
  {
   "cell_type": "code",
   "execution_count": 23,
   "id": "9059c16e",
   "metadata": {},
   "outputs": [
    {
     "name": "stdout",
     "output_type": "stream",
     "text": [
      "A is Less than B\n"
     ]
    }
   ],
   "source": [
    "a, b = 20 ,30 # if else statements\n",
    "if a<b:\n",
    "    print(\"A is Less than B\")\n",
    "else:\n",
    "    print(\"A is not greater than B\")"
   ]
  },
  {
   "cell_type": "code",
   "execution_count": 24,
   "id": "aab28928",
   "metadata": {},
   "outputs": [
    {
     "name": "stdout",
     "output_type": "stream",
     "text": [
      "A is less than B and C\n",
      "B is greater than A and less than C\n"
     ]
    }
   ],
   "source": [
    "a,b,c = 22,45,56 #nested conditions\n",
    "if a<b and a<c:\n",
    "    print(\"A is less than B and C\")\n",
    "    if b>a or b<c:\n",
    "        print(\"B is greater than A and less than C\")"
   ]
  },
  {
   "cell_type": "code",
   "execution_count": 37,
   "id": "92472005",
   "metadata": {},
   "outputs": [
    {
     "name": "stdout",
     "output_type": "stream",
     "text": [
      "I a m a P r o g r a m m e r 0\n",
      "1\n",
      "2\n",
      "3\n",
      "4\n",
      "5\n"
     ]
    }
   ],
   "source": [
    "a = \"IamaProgrammer\" #while loop\n",
    "counter = 0\n",
    "while counter < len(a):\n",
    "    print(a[counter],end =\" \")\n",
    "    counter +=1\n",
    "\n",
    "b = 5 \n",
    "counter = 0\n",
    "while counter <= b:\n",
    "    print(counter)\n",
    "    counter +=1\n",
    "    "
   ]
  },
  {
   "cell_type": "code",
   "execution_count": 38,
   "id": "88f3de92",
   "metadata": {},
   "outputs": [
    {
     "name": "stdout",
     "output_type": "stream",
     "text": [
      "21\n"
     ]
    }
   ],
   "source": [
    "n = 6\n",
    "sum = 0 \n",
    "for i in range(1,n+1):\n",
    "    sum +=i\n",
    "print(sum)"
   ]
  },
  {
   "cell_type": "code",
   "execution_count": 39,
   "id": "f5b7a152",
   "metadata": {},
   "outputs": [
    {
     "name": "stdout",
     "output_type": "stream",
     "text": [
      "[2, 4, 6, 8]\n"
     ]
    }
   ],
   "source": [
    "list_1 = [1,2,3,4,5,6,7,8,9]\n",
    "lis_2 = []\n",
    "for i in list_1:\n",
    "    if i%2 ==0:\n",
    "        lis_2.append(i)\n",
    "print(lis_2)\n",
    "        "
   ]
  },
  {
   "cell_type": "code",
   "execution_count": 45,
   "id": "53bc1c27",
   "metadata": {},
   "outputs": [
    {
     "name": "stdout",
     "output_type": "stream",
     "text": [
      "1 shimakh Technology\n",
      "Nested for loop\n",
      "Nested for loop\n",
      "Nested for loop\n",
      "2 shimakh Technology\n",
      "Nested for loop\n",
      "Nested for loop\n",
      "Nested for loop\n",
      "3 shimakh Technology\n",
      "Nested for loop\n",
      "Nested for loop\n",
      "Nested for loop\n"
     ]
    }
   ],
   "source": [
    "a = 3 #nested for loops\n",
    "b = 3\n",
    "for i in range(1,a+1):\n",
    "    print(str(i)+ \" shimakh Technology\")\n",
    "    for j in range(b):\n",
    "        print(\"Nested for loop\")"
   ]
  },
  {
   "cell_type": "code",
   "execution_count": null,
   "id": "29406ffb",
   "metadata": {},
   "outputs": [],
   "source": []
  }
 ],
 "metadata": {
  "kernelspec": {
   "display_name": "Python 3 (ipykernel)",
   "language": "python",
   "name": "python3"
  },
  "language_info": {
   "codemirror_mode": {
    "name": "ipython",
    "version": 3
   },
   "file_extension": ".py",
   "mimetype": "text/x-python",
   "name": "python",
   "nbconvert_exporter": "python",
   "pygments_lexer": "ipython3",
   "version": "3.11.5"
  }
 },
 "nbformat": 4,
 "nbformat_minor": 5
}
